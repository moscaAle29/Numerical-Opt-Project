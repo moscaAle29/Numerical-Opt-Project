{
 "cells": [
  {
   "cell_type": "code",
   "execution_count": 5,
   "metadata": {},
   "outputs": [],
   "source": [
    "from gym.spaces import Box, Discrete, Graph"
   ]
  },
  {
   "cell_type": "code",
   "execution_count": 6,
   "metadata": {},
   "outputs": [],
   "source": [
    "box = Box(low= 0, high= 4, shape=(3,3), dtype = int)"
   ]
  },
  {
   "cell_type": "code",
   "execution_count": 7,
   "metadata": {},
   "outputs": [],
   "source": [
    "actions = Discrete(100)"
   ]
  },
  {
   "cell_type": "code",
   "execution_count": 8,
   "metadata": {},
   "outputs": [],
   "source": [
    "graph = Graph(box, actions)"
   ]
  },
  {
   "cell_type": "code",
   "execution_count": 9,
   "metadata": {},
   "outputs": [
    {
     "data": {
      "text/plain": [
       "Graph(Box(0, 4, (3, 3), int32), Discrete(100))"
      ]
     },
     "execution_count": 9,
     "metadata": {},
     "output_type": "execute_result"
    }
   ],
   "source": [
    "graph"
   ]
  },
  {
   "cell_type": "code",
   "execution_count": 10,
   "metadata": {},
   "outputs": [
    {
     "data": {
      "text/plain": [
       "GraphInstance(nodes=array([[[4, 4, 3],\n",
       "        [0, 2, 3],\n",
       "        [2, 4, 4]]]), edges=None, edge_links=None)"
      ]
     },
     "execution_count": 10,
     "metadata": {},
     "output_type": "execute_result"
    }
   ],
   "source": [
    "graph.sample(num_nodes=1)"
   ]
  },
  {
   "cell_type": "code",
   "execution_count": 11,
   "metadata": {},
   "outputs": [
    {
     "data": {
      "text/plain": [
       "array([[4, 2, 2],\n",
       "       [0, 1, 1],\n",
       "       [2, 0, 4]])"
      ]
     },
     "execution_count": 11,
     "metadata": {},
     "output_type": "execute_result"
    }
   ],
   "source": [
    "box.sample()"
   ]
  },
  {
   "cell_type": "code",
   "execution_count": 12,
   "metadata": {},
   "outputs": [],
   "source": [
    "import numpy as np\n",
    "import copy\n",
    "x=np.array([[0,0], [0,0]])\n"
   ]
  },
  {
   "cell_type": "code",
   "execution_count": 13,
   "metadata": {},
   "outputs": [
    {
     "data": {
      "text/plain": [
       "(2, 2)"
      ]
     },
     "execution_count": 13,
     "metadata": {},
     "output_type": "execute_result"
    }
   ],
   "source": [
    "x.shape"
   ]
  },
  {
   "cell_type": "code",
   "execution_count": 14,
   "metadata": {},
   "outputs": [],
   "source": [
    "matricesList = []\n",
    "numberOfTypes = 2\n",
    "size = 2\n",
    "\n",
    "instance = np.array([0,0,0,0])\n",
    "\n",
    "def generateSetOfInstances(instance, depth):\n",
    "\n",
    "    if depth > 3:\n",
    "        return\n",
    "    \n",
    "    for i in range(0, numberOfTypes + 1):\n",
    "        newInstance = copy.deepcopy(instance)\n",
    "        newInstance[depth] = i\n",
    "        matricesList.append(newInstance)\n",
    "        generateSetOfInstances(newInstance, depth + 1)\n"
   ]
  },
  {
   "cell_type": "code",
   "execution_count": 15,
   "metadata": {},
   "outputs": [],
   "source": [
    "generateSetOfInstances(instance, 0)"
   ]
  },
  {
   "cell_type": "code",
   "execution_count": 16,
   "metadata": {},
   "outputs": [
    {
     "data": {
      "text/plain": [
       "[array([0, 0, 0, 0]),\n",
       " array([0, 0, 0, 0]),\n",
       " array([0, 0, 0, 0]),\n",
       " array([0, 0, 0, 0]),\n",
       " array([0, 0, 0, 1]),\n",
       " array([0, 0, 0, 2]),\n",
       " array([0, 0, 1, 0]),\n",
       " array([0, 0, 1, 0]),\n",
       " array([0, 0, 1, 1]),\n",
       " array([0, 0, 1, 2]),\n",
       " array([0, 0, 2, 0]),\n",
       " array([0, 0, 2, 0]),\n",
       " array([0, 0, 2, 1]),\n",
       " array([0, 0, 2, 2]),\n",
       " array([0, 1, 0, 0]),\n",
       " array([0, 1, 0, 0]),\n",
       " array([0, 1, 0, 0]),\n",
       " array([0, 1, 0, 1]),\n",
       " array([0, 1, 0, 2]),\n",
       " array([0, 1, 1, 0]),\n",
       " array([0, 1, 1, 0]),\n",
       " array([0, 1, 1, 1]),\n",
       " array([0, 1, 1, 2]),\n",
       " array([0, 1, 2, 0]),\n",
       " array([0, 1, 2, 0]),\n",
       " array([0, 1, 2, 1]),\n",
       " array([0, 1, 2, 2]),\n",
       " array([0, 2, 0, 0]),\n",
       " array([0, 2, 0, 0]),\n",
       " array([0, 2, 0, 0]),\n",
       " array([0, 2, 0, 1]),\n",
       " array([0, 2, 0, 2]),\n",
       " array([0, 2, 1, 0]),\n",
       " array([0, 2, 1, 0]),\n",
       " array([0, 2, 1, 1]),\n",
       " array([0, 2, 1, 2]),\n",
       " array([0, 2, 2, 0]),\n",
       " array([0, 2, 2, 0]),\n",
       " array([0, 2, 2, 1]),\n",
       " array([0, 2, 2, 2]),\n",
       " array([1, 0, 0, 0]),\n",
       " array([1, 0, 0, 0]),\n",
       " array([1, 0, 0, 0]),\n",
       " array([1, 0, 0, 0]),\n",
       " array([1, 0, 0, 1]),\n",
       " array([1, 0, 0, 2]),\n",
       " array([1, 0, 1, 0]),\n",
       " array([1, 0, 1, 0]),\n",
       " array([1, 0, 1, 1]),\n",
       " array([1, 0, 1, 2]),\n",
       " array([1, 0, 2, 0]),\n",
       " array([1, 0, 2, 0]),\n",
       " array([1, 0, 2, 1]),\n",
       " array([1, 0, 2, 2]),\n",
       " array([1, 1, 0, 0]),\n",
       " array([1, 1, 0, 0]),\n",
       " array([1, 1, 0, 0]),\n",
       " array([1, 1, 0, 1]),\n",
       " array([1, 1, 0, 2]),\n",
       " array([1, 1, 1, 0]),\n",
       " array([1, 1, 1, 0]),\n",
       " array([1, 1, 1, 1]),\n",
       " array([1, 1, 1, 2]),\n",
       " array([1, 1, 2, 0]),\n",
       " array([1, 1, 2, 0]),\n",
       " array([1, 1, 2, 1]),\n",
       " array([1, 1, 2, 2]),\n",
       " array([1, 2, 0, 0]),\n",
       " array([1, 2, 0, 0]),\n",
       " array([1, 2, 0, 0]),\n",
       " array([1, 2, 0, 1]),\n",
       " array([1, 2, 0, 2]),\n",
       " array([1, 2, 1, 0]),\n",
       " array([1, 2, 1, 0]),\n",
       " array([1, 2, 1, 1]),\n",
       " array([1, 2, 1, 2]),\n",
       " array([1, 2, 2, 0]),\n",
       " array([1, 2, 2, 0]),\n",
       " array([1, 2, 2, 1]),\n",
       " array([1, 2, 2, 2]),\n",
       " array([2, 0, 0, 0]),\n",
       " array([2, 0, 0, 0]),\n",
       " array([2, 0, 0, 0]),\n",
       " array([2, 0, 0, 0]),\n",
       " array([2, 0, 0, 1]),\n",
       " array([2, 0, 0, 2]),\n",
       " array([2, 0, 1, 0]),\n",
       " array([2, 0, 1, 0]),\n",
       " array([2, 0, 1, 1]),\n",
       " array([2, 0, 1, 2]),\n",
       " array([2, 0, 2, 0]),\n",
       " array([2, 0, 2, 0]),\n",
       " array([2, 0, 2, 1]),\n",
       " array([2, 0, 2, 2]),\n",
       " array([2, 1, 0, 0]),\n",
       " array([2, 1, 0, 0]),\n",
       " array([2, 1, 0, 0]),\n",
       " array([2, 1, 0, 1]),\n",
       " array([2, 1, 0, 2]),\n",
       " array([2, 1, 1, 0]),\n",
       " array([2, 1, 1, 0]),\n",
       " array([2, 1, 1, 1]),\n",
       " array([2, 1, 1, 2]),\n",
       " array([2, 1, 2, 0]),\n",
       " array([2, 1, 2, 0]),\n",
       " array([2, 1, 2, 1]),\n",
       " array([2, 1, 2, 2]),\n",
       " array([2, 2, 0, 0]),\n",
       " array([2, 2, 0, 0]),\n",
       " array([2, 2, 0, 0]),\n",
       " array([2, 2, 0, 1]),\n",
       " array([2, 2, 0, 2]),\n",
       " array([2, 2, 1, 0]),\n",
       " array([2, 2, 1, 0]),\n",
       " array([2, 2, 1, 1]),\n",
       " array([2, 2, 1, 2]),\n",
       " array([2, 2, 2, 0]),\n",
       " array([2, 2, 2, 0]),\n",
       " array([2, 2, 2, 1]),\n",
       " array([2, 2, 2, 2])]"
      ]
     },
     "execution_count": 16,
     "metadata": {},
     "output_type": "execute_result"
    }
   ],
   "source": [
    "matricesList"
   ]
  },
  {
   "cell_type": "code",
   "execution_count": 17,
   "metadata": {},
   "outputs": [],
   "source": [
    "import itertools"
   ]
  },
  {
   "cell_type": "code",
   "execution_count": 19,
   "metadata": {},
   "outputs": [
    {
     "name": "stdout",
     "output_type": "stream",
     "text": [
      "[[0 0]\n",
      " [0 0]]\n",
      "[[0 0]\n",
      " [0 1]]\n",
      "[[0 0]\n",
      " [0 2]]\n",
      "[[0 0]\n",
      " [1 1]]\n",
      "[[0 0]\n",
      " [1 2]]\n",
      "[[0 0]\n",
      " [2 2]]\n",
      "[[0 1]\n",
      " [1 1]]\n",
      "[[0 1]\n",
      " [1 2]]\n",
      "[[0 1]\n",
      " [2 2]]\n",
      "[[0 2]\n",
      " [2 2]]\n",
      "[[1 1]\n",
      " [1 1]]\n",
      "[[1 1]\n",
      " [1 2]]\n",
      "[[1 1]\n",
      " [2 2]]\n",
      "[[1 2]\n",
      " [2 2]]\n",
      "[[2 2]\n",
      " [2 2]]\n"
     ]
    }
   ],
   "source": [
    "for i in itertools.combinations_with_replacement(range(0,3), 4):\n",
    "    i = np.array(i)\n",
    "    i = i.reshape((2,2))\n",
    "    print(i)"
   ]
  },
  {
   "cell_type": "code",
   "execution_count": null,
   "metadata": {},
   "outputs": [],
   "source": []
  }
 ],
 "metadata": {
  "kernelspec": {
   "display_name": "base",
   "language": "python",
   "name": "python3"
  },
  "language_info": {
   "codemirror_mode": {
    "name": "ipython",
    "version": 3
   },
   "file_extension": ".py",
   "mimetype": "text/x-python",
   "name": "python",
   "nbconvert_exporter": "python",
   "pygments_lexer": "ipython3",
   "version": "3.9.12"
  },
  "orig_nbformat": 4,
  "vscode": {
   "interpreter": {
    "hash": "8f915e3ed5ce864f8e836bbc981f66cd79aa03b0feaa8f81cd8d898694102d90"
   }
  }
 },
 "nbformat": 4,
 "nbformat_minor": 2
}
